{
 "cells": [
  {
   "cell_type": "markdown",
   "metadata": {
    "colab_type": "text",
    "id": "view-in-github"
   },
   "source": [
    "<a href=\"https://colab.research.google.com/github/manolan1/ml-lab/blob/master/05-04-Seaborn.ipynb\" target=\"_parent\"><img src=\"https://colab.research.google.com/assets/colab-badge.svg\" alt=\"Open In Colab\"/></a>\n"
   ]
  },
  {
   "cell_type": "code",
   "execution_count": null,
   "metadata": {},
   "outputs": [],
   "source": [
    "%matplotlib notebook\n",
    "import pandas as pd\n",
    "import matplotlib.pyplot as plt\n",
    "\n",
    "# can set these parameters individually or pass a dictionary\n",
    "fontdict = {\n",
    "    'fontsize': 12,\n",
    "    'weight': 'bold',\n",
    "    'horizontalalignment': 'center'\n",
    "}"
   ]
  },
  {
   "cell_type": "markdown",
   "metadata": {},
   "source": [
    "# Comparing Pyplot and Seaborn"
   ]
  },
  {
   "cell_type": "markdown",
   "metadata": {},
   "source": [
    "Our dataset is from the Capital Bikeshare in Washington, DC."
   ]
  },
  {
   "cell_type": "code",
   "execution_count": null,
   "metadata": {},
   "outputs": [],
   "source": [
    "day = pd.read_csv('Bike-Sharing-Dataset/day.csv')"
   ]
  },
  {
   "cell_type": "markdown",
   "metadata": {},
   "source": [
    "## Pyplot"
   ]
  },
  {
   "cell_type": "markdown",
   "metadata": {},
   "source": [
    "We will start by trying a simple scatter plot."
   ]
  },
  {
   "cell_type": "code",
   "execution_count": null,
   "metadata": {},
   "outputs": [],
   "source": [
    "plt.scatter('temp', 'cnt', data = day, c = 'season')\n",
    "plt.xlabel('Normalized Temperature', fontsize = 'large')\n",
    "plt.ylabel('Count of Total Bike Rentals', fontsize = 'large')"
   ]
  },
  {
   "cell_type": "markdown",
   "metadata": {},
   "source": [
    "That's interesting and there appears to be some correlation between temperature and the number of bike rentals. But we would like to understand the role of seasons a little more clearly."
   ]
  },
  {
   "cell_type": "code",
   "execution_count": null,
   "metadata": {},
   "outputs": [],
   "source": [
    "fig = plt.figure(figsize = (9.5, 6))\n",
    "\n",
    "spring = plt.scatter('temp', 'cnt', data = day[day['season'] == 1], marker='o', color = 'green')\n",
    "summer = plt.scatter('temp', 'cnt', data = day[day['season'] == 2], marker='o', color = 'orange')\n",
    "autumn = plt.scatter('temp', 'cnt', data = day[day['season'] == 3], marker='o', color = 'brown')\n",
    "winter = plt.scatter('temp', 'cnt', data = day[day['season'] == 4], marker='o', color = 'blue')\n",
    "plt.legend(\n",
    "    handles = (spring, summer, autumn, winter),\n",
    "    labels = ('Spring', 'Summer', 'Autumn', 'Winter'),\n",
    "    title = 'Season',\n",
    "    title_fontsize = 12,\n",
    "    scatterpoints = 1,\n",
    "    loc = 'upper left', \n",
    "    ncol = 1,\n",
    "    fontsize = 12\n",
    ")\n",
    "plt.title('Bike Rentals at Different Temperatures\\nBy Season', fontdict = fontdict, color = 'black')\n",
    "plt.xlabel('Normalized temperature', fontdict = fontdict)\n",
    "plt.ylabel('Count of Total Rental Bikes', fontdict = fontdict)"
   ]
  },
  {
   "cell_type": "markdown",
   "metadata": {},
   "source": [
    "That's better, now we can clearly see the season. However, it would be easier to see trends if we could separate them out.\n",
    "\n",
    "We will add subplots to separate each season.\n",
    "\n",
    "When adding a subplot, we can either specify three numbers, or a three digit number. In either case, the first digit is the number of rows, the second is the number of columns and the third indicates which subplot we are addressing. This code creates a 2x2 grid of subplots.\n",
    "\n",
    "Confusingly, matplotlib calls subplots \"axes\", which is easily confused with the plural of axis."
   ]
  },
  {
   "cell_type": "code",
   "execution_count": null,
   "metadata": {},
   "outputs": [],
   "source": [
    "fig = plt.figure(figsize = (9.5, 6))\n",
    "\n",
    "plt.subplots_adjust(wspace = 0.2, hspace = 0.3) # specified as fraction of subplot sizes\n",
    "\n",
    "fig.suptitle('Bike Rentals at Different Temperatures\\nBy Season', \n",
    "             fontsize = 12, \n",
    "             fontweight = 'bold', \n",
    "             color = 'black', \n",
    "             position = (0.5, 0.99))\n",
    "\n",
    "ax1 = fig.add_subplot(221)\n",
    "ax1.scatter('temp', 'cnt', data = day[day['season'] == 1], c = 'g')\n",
    "ax1.set_title('Spring', fontdict = fontdict, color = 'g')\n",
    "ax1.set_ylabel('Count of Total Rental Bikes', fontdict = fontdict, position = (0, -0.1))\n",
    "\n",
    "ax2 = fig.add_subplot(222)\n",
    "ax2.scatter('temp', 'cnt', data = day[day['season'] == 2], c= 'orange')\n",
    "ax2.set_title('Summer', fontdict = fontdict, color = 'orange')\n",
    "\n",
    "ax3 = fig.add_subplot(223)\n",
    "ax3.scatter('temp', 'cnt', data=day[day['season'] == 3], c = 'brown')\n",
    "ax3.set_title('Autumn', fontdict = fontdict, color = 'brown')\n",
    "\n",
    "ax4 = fig.add_subplot(224)\n",
    "ax4.scatter('temp', 'cnt', data = day[day['season'] == 4], c = 'b')\n",
    "ax4.set_title('Winter', fontdict = fontdict, color = 'b')\n",
    "ax4.set_xlabel('Normalized temperature', fontdict = fontdict, position = (-0.1, 0));"
   ]
  },
  {
   "cell_type": "markdown",
   "metadata": {},
   "source": [
    "There's actually a problem here since the temperature scale is not the same for all subplots and this may lead us to some erroneous conclusions. It is clearer if we stack the subplots."
   ]
  },
  {
   "cell_type": "code",
   "execution_count": null,
   "metadata": {},
   "outputs": [],
   "source": [
    "fig = plt.figure(figsize = (9.5, 6))\n",
    "\n",
    "plt.subplots_adjust(hspace = 0.6)\n",
    "\n",
    "fig.suptitle('Bike Rentals at Different Temperatures\\nBy Season', \n",
    "             fontsize = 12, \n",
    "             fontweight = 'bold', \n",
    "             color = 'black', \n",
    "             position = (0.5, 0.99))\n",
    "\n",
    "ax1 = fig.add_subplot(411)\n",
    "ax1.scatter('temp', 'cnt', data = day[day['season'] == 1], c = 'g')\n",
    "ax1.set_title('Spring', fontdict = fontdict, color = 'g')\n",
    "\n",
    "ax2 = fig.add_subplot(412)\n",
    "ax2.scatter('temp', 'cnt', data = day[day['season'] == 2], c= 'orange')\n",
    "ax2.set_title('Summer', fontdict = fontdict, color = 'orange')\n",
    "ax2.set_ylabel('Count of Total Rental Bikes', fontdict = fontdict, position = (-0.5, -0.1))\n",
    "\n",
    "ax3 = fig.add_subplot(413)\n",
    "ax3.scatter('temp', 'cnt', data=day[day['season'] == 3], c = 'brown')\n",
    "ax3.set_title('Autumn', fontdict = fontdict, color = 'brown')\n",
    "\n",
    "ax4 = fig.add_subplot(414)\n",
    "ax4.scatter('temp', 'cnt', data = day[day['season'] == 4], c = 'b')\n",
    "ax4.set_title('Winter', fontdict = fontdict, color = 'b')\n",
    "ax4.set_xlabel('Normalized temperature', fontdict = fontdict);"
   ]
  },
  {
   "cell_type": "markdown",
   "metadata": {},
   "source": [
    "Now we can clearly see that the scales are different.\n",
    "\n",
    "We can fix this by setting the limits to be the same."
   ]
  },
  {
   "cell_type": "code",
   "execution_count": null,
   "metadata": {},
   "outputs": [],
   "source": [
    "ax1.set_xlim(0, 1.0)\n",
    "ax2.set_xlim(0, 1.0)\n",
    "ax3.set_xlim(0, 1.0)\n",
    "ax4.set_xlim(0, 1.0)\n",
    "y_min = day.cnt.min()\n",
    "y_max = day.cnt.max()\n",
    "ax1.set_ylim(y_min, y_max)\n",
    "ax2.set_ylim(y_min, y_max)\n",
    "ax3.set_ylim(y_min, y_max)\n",
    "ax4.set_ylim(y_min, y_max)"
   ]
  },
  {
   "cell_type": "markdown",
   "metadata": {},
   "source": [
    "That's much clearer now.\n",
    "\n",
    "However, it wasn't ideal that we had to set all the limits individually. And, in this dataset, we could see easily how to set the temperature scale.\n",
    "\n",
    "As an alternative, we can share the axis between subplots."
   ]
  },
  {
   "cell_type": "code",
   "execution_count": null,
   "metadata": {},
   "outputs": [],
   "source": [
    "fig = plt.figure(figsize = (9.5, 6))\n",
    "\n",
    "plt.subplots_adjust(hspace = 0.6)\n",
    "\n",
    "fig.suptitle('Bike Rentals at Different Temperatures\\nBy Season', \n",
    "             fontsize = 12, \n",
    "             fontweight = 'bold', \n",
    "             color = 'black', \n",
    "             position = (0.5, 0.99))\n",
    "\n",
    "# define ax2 first because it has the widest range\n",
    "ax2 = fig.add_subplot(412)\n",
    "ax2.scatter('temp', 'cnt', data = day[day['season'] == 2], c= 'orange')\n",
    "ax2.set_title('Summer', fontdict = fontdict, color = 'orange')\n",
    "ax2.set_ylabel('Count of Total Rental Bikes', fontdict = fontdict, position = (-0.5, -0.1))\n",
    "\n",
    "ax1 = fig.add_subplot(411, sharex = ax2, sharey = ax2)\n",
    "ax1.scatter('temp', 'cnt', data = day[day['season'] == 1], c = 'g')\n",
    "ax1.set_title('Spring', fontdict = fontdict, color = 'g')\n",
    "\n",
    "ax3 = fig.add_subplot(413, sharex = ax2, sharey = ax2)\n",
    "ax3.scatter('temp', 'cnt', data=day[day['season'] == 3], c = 'brown')\n",
    "ax3.set_title('Autumn', fontdict = fontdict, color = 'brown')\n",
    "\n",
    "ax4 = fig.add_subplot(414, sharex = ax2, sharey = ax2)\n",
    "ax4.scatter('temp', 'cnt', data = day[day['season'] == 4], c = 'b')\n",
    "ax4.set_title('Winter', fontdict = fontdict, color = 'b')\n",
    "ax4.set_xlabel('Normalized temperature', fontdict = fontdict);"
   ]
  },
  {
   "cell_type": "markdown",
   "metadata": {},
   "source": [
    "That's useful, but in this case we needed to know that Summer had the widest data range and that isn't something we can always guarantee. For this particular data, we would probably do it the hard way, as shown earlier."
   ]
  },
  {
   "cell_type": "markdown",
   "metadata": {},
   "source": [
    "## Seaborn"
   ]
  },
  {
   "cell_type": "markdown",
   "metadata": {},
   "source": [
    "Now let's see what impact seaborn has on this problem.\n",
    "\n",
    "We start by importing it and setting the style sheet."
   ]
  },
  {
   "cell_type": "code",
   "execution_count": null,
   "metadata": {},
   "outputs": [],
   "source": [
    "import seaborn as sns\n",
    "sns.set()"
   ]
  },
  {
   "cell_type": "markdown",
   "metadata": {},
   "source": [
    "If you go back and re-run any of the previous graphs, you will see an immediate impact based on the default seaborn styles.\n",
    "\n",
    "We will just make a small change to the data set to make it more useful. Seaborn uses values in legends and labels automatically, so it is more useful to have the seasons pre-mapped to their names rather than filtering the data in each series."
   ]
  },
  {
   "cell_type": "code",
   "execution_count": null,
   "metadata": {},
   "outputs": [],
   "source": [
    "day.rename(columns = {'season': 'Season'}, inplace = True)\n",
    "day['Season'] = day.Season.map({1: 'Spring', 2: 'Summer', 3: 'Autumn', 4: 'Winter'})"
   ]
  },
  {
   "cell_type": "markdown",
   "metadata": {},
   "source": [
    "Now we can create a seaborn plot to match our first seasonal scatter plot.\n",
    "\n",
    "Most of the code here is aimed at the appearance of the plot. But compare the 4 calls to ``plt.scatter`` that we had to make before with the single call to ``sns.scatterplot`` this time.\n",
    "\n",
    "We have also changed the marker in each series. We could have done this directly in ``plt.scatter`` by setting the marker to 'x', 's' (for square) and '+'."
   ]
  },
  {
   "cell_type": "code",
   "execution_count": null,
   "metadata": {},
   "outputs": [],
   "source": [
    "plt.figure(figsize = (7, 6))\n",
    "\n",
    "sns.set_context('talk', font_scale = 0.9)\n",
    "sns.set_style('ticks')\n",
    "\n",
    "sns.scatterplot(\n",
    "    x = 'temp',\n",
    "    y = 'cnt', \n",
    "    hue = 'Season',   # change color for each value\n",
    "    data = day, \n",
    "    style = 'Season', # change the marker for each value\n",
    "    palette = ['green', 'orange', 'brown', 'blue'],\n",
    "    legend = 'full'\n",
    ")\n",
    "\n",
    "plt.legend(\n",
    "    scatterpoints = 1,\n",
    "    loc = 'upper left',\n",
    "    ncol = 1,\n",
    "    fontsize = 12\n",
    ")\n",
    "plt.xlabel('Normalized Temperature', fontdict = fontdict)\n",
    "plt.ylabel('Count of Total Bike Rentals', fontdict = fontdict)\n",
    "plt.title('Bike Rentals at Different Temperatures\\nBy Season', fontdict = fontdict, position = (0.5, 1));"
   ]
  },
  {
   "cell_type": "markdown",
   "metadata": {},
   "source": [
    "Now let's create the stacked scatter that we had before.\n",
    "\n",
    "Again, notice that we can achieve this in a single plotting call."
   ]
  },
  {
   "cell_type": "code",
   "execution_count": null,
   "metadata": {},
   "outputs": [],
   "source": [
    "sns.set() \n",
    "\n",
    "g = sns.relplot(\n",
    "    x = 'temp', \n",
    "    y = 'cnt', \n",
    "    hue = 'Season', \n",
    "    data = day,\n",
    "    palette = ['green', 'orange', 'brown', 'blue'],\n",
    "    row = 'Season', \n",
    "    legend = False,\n",
    "    height = 2, \n",
    "    aspect = 4.8, \n",
    "    style = 'Season'\n",
    ")\n",
    "\n",
    "g.fig.subplots_adjust(top = 0.9)\n",
    "g.fig.suptitle('Bike Rentals at Different Temperatures\\nBy Season', position=(0.5, 0.99), fontweight = 'bold', size = 12)\n",
    "# this is a bit of a cheat, supressing default labels and associating the axis label with the last subplot\n",
    "# we could also use g.set_xlabels or g.axes etc\n",
    "g.set_axis_labels('', '')\n",
    "plt.ylabel('Count of Total Bike Rentals', fontdict = fontdict, position = (0, 2.0))\n",
    "plt.xlabel('Normalized Temperatures', fontdict = fontdict)\n",
    "g.set_titles(template = '{row_name}')"
   ]
  },
  {
   "cell_type": "markdown",
   "metadata": {},
   "source": [
    "# Colors"
   ]
  },
  {
   "cell_type": "code",
   "execution_count": null,
   "metadata": {},
   "outputs": [],
   "source": [
    "sns.palplot(sns.color_palette())"
   ]
  },
  {
   "cell_type": "code",
   "execution_count": null,
   "metadata": {},
   "outputs": [],
   "source": [
    "sns.palplot(sns.color_palette('muted'))"
   ]
  },
  {
   "cell_type": "code",
   "execution_count": null,
   "metadata": {},
   "outputs": [],
   "source": [
    "sns.palplot(sns.color_palette('bright'))"
   ]
  },
  {
   "cell_type": "code",
   "execution_count": null,
   "metadata": {},
   "outputs": [],
   "source": [
    "sns.palplot(sns.color_palette('pastel'))"
   ]
  },
  {
   "cell_type": "code",
   "execution_count": null,
   "metadata": {},
   "outputs": [],
   "source": [
    "sns.palplot(sns.color_palette('rainbow'))"
   ]
  },
  {
   "cell_type": "code",
   "execution_count": null,
   "metadata": {},
   "outputs": [],
   "source": [
    "sns.palplot(sns.color_palette('Blues'))"
   ]
  },
  {
   "cell_type": "code",
   "execution_count": null,
   "metadata": {},
   "outputs": [],
   "source": [
    "sns.palplot(sns.crayon_palette(['Maroon', 'Bittersweet', 'Burnt Orange', 'Canary', 'Fern', \"Robin's Egg Blue\", 'Royal Purple']))"
   ]
  },
  {
   "cell_type": "markdown",
   "metadata": {},
   "source": [
    "# Other Plots"
   ]
  },
  {
   "cell_type": "code",
   "execution_count": null,
   "metadata": {},
   "outputs": [],
   "source": [
    "tips = sns.load_dataset('tips')\n",
    "iris = sns.load_dataset('iris')\n",
    "mpg = sns.load_dataset('mpg')"
   ]
  },
  {
   "cell_type": "markdown",
   "metadata": {},
   "source": [
    "## Using Size in a Scatter Plot"
   ]
  },
  {
   "cell_type": "code",
   "execution_count": null,
   "metadata": {},
   "outputs": [],
   "source": [
    "sns.set(style=\"ticks\")\n",
    "\n",
    "g = sns.relplot(x = 'total_bill', y = 'tip', hue = 'time', size = 'size',\n",
    "                palette = ['b', 'r'], sizes = (10, 100),\n",
    "                col = 'time', data = tips)"
   ]
  },
  {
   "cell_type": "markdown",
   "metadata": {},
   "source": [
    "## Various Categorical Plots\n",
    "\n",
    "A strip plot is a combination of scatter and bar graph, but it allows data points to overlap. A swarm plot does not allow them to overlap."
   ]
  },
  {
   "cell_type": "code",
   "execution_count": null,
   "metadata": {},
   "outputs": [],
   "source": [
    "sns.set(style = 'whitegrid') \n",
    "\n",
    "ax = sns.catplot(x = 'species', y = 'sepal_length', data = iris, kind = 'strip'); \n",
    "plt.title('Sepal Length by Species') "
   ]
  },
  {
   "cell_type": "code",
   "execution_count": null,
   "metadata": {},
   "outputs": [],
   "source": [
    "ax = sns.catplot(x = 'species', y = 'sepal_length', data = iris, kind = 'swarm'); \n",
    "plt.title('Sepal Length by Species')"
   ]
  },
  {
   "cell_type": "markdown",
   "metadata": {},
   "source": [
    "In a categorical bar chart, seaborn plots the mean and uses an error bar to indicate the range of values."
   ]
  },
  {
   "cell_type": "code",
   "execution_count": null,
   "metadata": {},
   "outputs": [],
   "source": [
    "ax = sns.catplot(x = 'species', y = 'sepal_length', data = iris, kind = 'bar'); \n",
    "plt.title('Sepal Length by Species')"
   ]
  },
  {
   "cell_type": "markdown",
   "metadata": {},
   "source": [
    "A categorical point chart also plots the mean value of a category, which it shows as a point with an error bar. The mean values are joined by lines in each series, making this a good choice for data trends."
   ]
  },
  {
   "cell_type": "code",
   "execution_count": null,
   "metadata": {},
   "outputs": [],
   "source": [
    "ax = sns.catplot(x = 'model_year', y = 'mpg', data = mpg, kind = 'point', hue = 'cylinders', dodge = True); \n",
    "plt.title('Miles per gallon by year and engine cylinders')"
   ]
  },
  {
   "cell_type": "markdown",
   "metadata": {},
   "source": [
    "## Joint Plot\n",
    "\n",
    "The joint plot adds plots to the x- and y-axis of the main plot. In the default case, it combines a scatter (or strip) chart with bar charts."
   ]
  },
  {
   "cell_type": "code",
   "execution_count": null,
   "metadata": {},
   "outputs": [],
   "source": [
    "ax = sns.jointplot(x = 'model_year', y = 'mpg', data = mpg); "
   ]
  },
  {
   "cell_type": "markdown",
   "metadata": {},
   "source": [
    "## Heatmap\n",
    "\n",
    "A heatmap uses color, or the intensity of color to indicate the data value at an intersection in a matrix."
   ]
  },
  {
   "cell_type": "code",
   "execution_count": null,
   "metadata": {},
   "outputs": [],
   "source": [
    "flights = sns.load_dataset('flights')\n",
    "flights = flights.pivot('month', 'year', 'passengers')\n",
    "ax = sns.heatmap(flights)"
   ]
  }
 ],
 "metadata": {
  "celltoolbar": "Edit Metadata",
  "kernelspec": {
   "display_name": "Python 3",
   "language": "python",
   "name": "python3"
  },
  "language_info": {
   "codemirror_mode": {
    "name": "ipython",
    "version": 3
   },
   "file_extension": ".py",
   "mimetype": "text/x-python",
   "name": "python",
   "nbconvert_exporter": "python",
   "pygments_lexer": "ipython3",
   "version": "3.7.4"
  }
 },
 "nbformat": 4,
 "nbformat_minor": 2
}
